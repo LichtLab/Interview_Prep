{
 "cells": [
  {
   "cell_type": "markdown",
   "metadata": {},
   "source": [
    "# Linear regression  \n",
    "\n",
    "## Definition\n",
    "Suppose $y = Xw + e$ and $Loss = \\sum (y_i - yhat_i)^2 = \\sum (y_i - Xw)^2$ \n",
    "## Assumptions\n",
    "\n",
    "1. y is continuous.\n",
    "2. Linear relationship between X and y.\n",
    "3. Residual will follow normal distribution.\n",
    "4. Expalatory variables are independent and identically distributed\n",
    "\n",
    "## Learning approach\n",
    "Parameter $w$ can be obtained by following ways.\n",
    "\n",
    "3. Maximum liklihood estimation  \n",
    "Until now, the loss function has been defined as Sum of Square($Loss = \\sum (y_i - yhat_i)^2 = \\sum (y_i - Xw)^2$ ), and the parameter $w$ has been determined as w that minimizes the loss function. MLE, on the other hand, the parameter w is sought to maximize the likelihood. And liklihood is defined as below.\n",
    "\n",
    "\n",
    "$$\n",
    "\\newcommand{\\argmax}{\\mathop{\\rm arg~max}\\limits}\n",
    "w  = \\argmax_{w} Pr((X,y) | w) \\\\\n",
    "Pr((X,y) | w) = \\prod \\frac{1}{\\sqrt{2\\pi\\sigma^2}} exp(-\\frac{(y_i - Xw)^2}{2\\sigma^2}) \\\\\n",
    "$$\n",
    "$\\because$ Linear regression assumptions 3: Residual follow normal distribution.\n",
    "$$\n",
    "Log(Pr((X,y) | w)) = log(\\prod(Pr((X,y) | w)) =  \\sum log(Pr((X,y) | w))  = - \\sum\\frac{(y_i - Xw)^2}{2\\sigma^2} \\\\\n",
    "$$\n",
    "\n",
    "$\\therefore$ Maximizing $Pr((X,y) | w)$ is equal to $Log(Pr((X,y) | w))$.  \n",
    "And maximizing $Log(Pr((X,y) | w))$ is equal to **minimizing** $ \\sum(y_i - Xw)^2$  \n",
    "$\\therefore$ It can be defined as the same problem as before. \n",
    "\n",
    "\n",
    "4. Maximum posteriori estimation / MAP estimation\n",
    "$Pr((X,y) | w)$ equation can be transformed as below by Bayes theorem.\n",
    "$$\n",
    "Pr((X,y) | w) = \\frac{Pr(w | (X,y)) * Pr(w)}{Pr((X,y))}\n",
    "$$\n",
    "\n",
    "\n"
   ]
  }
 ],
 "metadata": {
  "kernelspec": {
   "display_name": "Python 3",
   "language": "python",
   "name": "python3"
  },
  "language_info": {
   "codemirror_mode": {
    "name": "ipython",
    "version": 3
   },
   "file_extension": ".py",
   "mimetype": "text/x-python",
   "name": "python",
   "nbconvert_exporter": "python",
   "pygments_lexer": "ipython3",
   "version": "3.8.5"
  }
 },
 "nbformat": 4,
 "nbformat_minor": 4
}
